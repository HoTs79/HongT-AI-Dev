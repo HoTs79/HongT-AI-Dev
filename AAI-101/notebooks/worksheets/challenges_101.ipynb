{
 "cells": [
  {
   "cell_type": "markdown",
   "id": "52b85277",
   "metadata": {
    "editable": true,
    "slideshow": {
     "slide_type": ""
    },
    "tags": []
   },
   "source": [
    "# **Exploring Pandas: Common Data Operations**\n",
    "\n",
    "Welcome to this Jupyter Notebook! 🚀 In this notebook, you'll practice some of the most commonly used operations in the **Pandas** library using **two datasets**:\n",
    "1. **../../data/students.csv** (CSV)\n",
    "2. **../../data/enrollments.json** (JSON)\n",
    "\n",
    "These files should be placed in the same folder as this notebook. By the end, you'll have a strong grasp of common data manipulation tasks, and you'll even merge these two datasets on a common key.\n",
    "\n",
    "Before starting, make sure you have **Pandas** installed. (It should come preinstalled in Anaconda!)\n",
    "\n",
    "If pandas is not installed, follow the instructions below.\n",
    "\n",
    "---\n",
    "\n",
    "## **Checking if Pandas is Installed in Your Conda Environment**\n",
    "\n",
    "Before proceeding, check if Pandas is installed in your Conda environment by running the following command in a **Jupyter Notebook** cell:"
   ]
  },
  {
   "cell_type": "code",
   "execution_count": 33,
   "id": "a070d316",
   "metadata": {},
   "outputs": [
    {
     "name": "stdout",
     "output_type": "stream",
     "text": [
      "2.0.3\n"
     ]
    }
   ],
   "source": [
    "import pandas as pd\n",
    "print(pd.__version__)"
   ]
  },
  {
   "cell_type": "markdown",
   "id": "692ffe7d",
   "metadata": {},
   "source": [
    "If this runs without errors and prints a version number, Pandas is installed. If you see an **ImportError**, install Pandas using one of the following methods:\n",
    "\n",
    "### **For Conda Users (Recommended)**\n",
    "Run this in your terminal or Anaconda Prompt:\n",
    "```\n",
    "conda install pandas\n",
    "```\n",
    "\n",
    "### **Using Conda-Forge (If Needed)**\n",
    "If you encounter issues, you can install Pandas from **Conda-Forge**, a community-maintained repository with up-to-date packages:\n",
    "```\n",
    "conda install -c conda-forge pandas\n",
    "```\n",
    "\n",
    "### **For Pip Users**\n",
    "If you're using a virtual environment outside Conda, install Pandas via Pip:\n",
    "```\n",
    "pip install pandas\n",
    "```\n",
    "\n",
    "# Now, let’s dive in! 🏊‍♂️\n",
    "\n",
    "---\n"
   ]
  },
  {
   "cell_type": "markdown",
   "id": "081fc09d",
   "metadata": {},
   "source": [
    "## **1. Load a CSV file into a Pandas DataFrame**\n",
    "\n",
    "First, let's **import Pandas** and load the datasets. Two datasets have been prepared for you:\n",
    "\n",
    "- `students.csv`\n",
    "- `enrollments.json`\n",
    "\n",
    "You will use these two datasets for the following challenges.\n",
    "\n",
    "**💡 Hint:** If the file is in the same directory as your notebook, you can just use the filename. Otherwise, provide the full file path.\n"
   ]
  },
  {
   "cell_type": "code",
   "execution_count": 41,
   "id": "d560dab0-8dd7-4e22-97e6-fdfe11037322",
   "metadata": {
    "tags": []
   },
   "outputs": [],
   "source": [
    "import pandas as pd\n",
    "import numpy as np\n",
    "import matplotlib.pyplot as plt\n",
    "import seaborn as sns"
   ]
  },
  {
   "cell_type": "code",
   "execution_count": 43,
   "id": "9e28b9e3",
   "metadata": {
    "lines_to_next_cell": 2
   },
   "outputs": [
    {
     "name": "stdout",
     "output_type": "stream",
     "text": [
      "  student_id First_Name last_name  Birthddate gender        majorField  \\\n",
      "0     STU001       John       Doe   4/12/1998      M  Computer Science   \n",
      "1     STU002      Maria  Gonzalez    9/5/1997      F           Biology   \n",
      "2     STU003      Priya     Patel   1/23/1999      F       Engineering   \n",
      "3     STU004       Alex   Johnson  12/15/1996      M       Mathematics   \n",
      "4     STU005      Emily     Smith   7/30/2000      F           Physics   \n",
      "\n",
      "  admission_year  current gpa               contact_email  mobile number  \\\n",
      "0           2020          3.5        john.doe@example.com         -655.0   \n",
      "1           2019          3.8  maria.gonzalez@example.com         -656.0   \n",
      "2           2021          3.7     priya.patel@example.com         -657.0   \n",
      "3           2018          3.2    alex.johnson@example.com            NaN   \n",
      "4           2022          3.9     emily.smith@example.com         -659.0   \n",
      "\n",
      "  home_city HOME COUNTRY  \n",
      "0     Tampa          USA  \n",
      "1    London           UK  \n",
      "2    Mumbai        India  \n",
      "3    Sydney    Australia  \n",
      "4  New York          USA  \n",
      "             enrollment_id stud_ref_id subject_code        course_title  \\\n",
      "0  ENR-STU001-MATH101-AB12      STU001      MATH101          Calculus I   \n",
      "1   ENR-STU002-ENG201-CD34      STU002       ENG201  English Literature   \n",
      "2    ENR-STU003-CS301-EF56      STU003        CS301     Programming 101   \n",
      "3  ENR-STU004-HIST105-GH78      STU004      HIST105       World History   \n",
      "4  ENR-STU005-CHEM110-IJ90      STU005      CHEM110   Organic Chemistry   \n",
      "\n",
      "  instructor_name  enroll_count term_offered course_fee final_result  \\\n",
      "0       Dr. Smith            25  Spring 2026       1000            A   \n",
      "1     Prof. Brown            26    Fall 2025       1100            B   \n",
      "2      Dr. Taylor            27  Spring 2026       1200           C+   \n",
      "3         Dr. Lee            28    Fall 2025       1300           B+   \n",
      "4       Dr. Kumar            29  Spring 2026       1400           B-   \n",
      "\n",
      "   attend_percentage date_enrolled  \n",
      "0                 71    2026/01/15  \n",
      "1                 72    2025-09-01  \n",
      "2                 73    2026/01/15  \n",
      "3                 74    2025/09/01  \n",
      "4                 75    2026-01-15  \n"
     ]
    }
   ],
   "source": [
    "# Load students.csv\n",
    "students_df = pd.read_csv(\"../../data/students.csv\")\n",
    "\n",
    "# Load enrollments.json\n",
    "enrollments_df = pd.read_json(\"../../data/enrollments.json\")\n",
    "\n",
    "# Display the first few rows of both datasets\n",
    "print(students_df.head())\n",
    "print(enrollments_df.head())\n"
   ]
  },
  {
   "cell_type": "code",
   "execution_count": null,
   "id": "bdd45178-5781-4966-80ae-eea4a889f3c4",
   "metadata": {},
   "outputs": [],
   "source": []
  },
  {
   "cell_type": "code",
   "execution_count": 3,
   "id": "2f79dccb-ed26-46d4-bd25-44d60ee1e8c9",
   "metadata": {
    "lines_to_next_cell": 2
   },
   "outputs": [],
   "source": [
    "# your code here"
   ]
  },
  {
   "cell_type": "markdown",
   "id": "bb23c619",
   "metadata": {
    "tags": []
   },
   "source": [
    "## **2. View the First and Last Few Rows of Each DataFrame**\n",
    "\n",
    "Check out how your data looks. One method previews the first few records, while another method previews the last few. You can specify the number of rows you want to see by explicitly passing an integer argument.\n",
    "\n",
    "**📝 Tip:** This is a great time to confirm that columns loaded correctly and to spot any obvious data issues (strange values, mismatched columns, etc.)."
   ]
  },
  {
   "cell_type": "code",
   "execution_count": 45,
   "id": "ba59705d",
   "metadata": {
    "lines_to_next_cell": 2
   },
   "outputs": [
    {
     "name": "stdout",
     "output_type": "stream",
     "text": [
      "  student_id First_Name last_name  Birthddate gender        majorField  \\\n",
      "0     STU001       John       Doe   4/12/1998      M  Computer Science   \n",
      "1     STU002      Maria  Gonzalez    9/5/1997      F           Biology   \n",
      "2     STU003      Priya     Patel   1/23/1999      F       Engineering   \n",
      "3     STU004       Alex   Johnson  12/15/1996      M       Mathematics   \n",
      "4     STU005      Emily     Smith   7/30/2000      F           Physics   \n",
      "\n",
      "  admission_year  current gpa               contact_email  mobile number  \\\n",
      "0           2020          3.5        john.doe@example.com         -655.0   \n",
      "1           2019          3.8  maria.gonzalez@example.com         -656.0   \n",
      "2           2021          3.7     priya.patel@example.com         -657.0   \n",
      "3           2018          3.2    alex.johnson@example.com            NaN   \n",
      "4           2022          3.9     emily.smith@example.com         -659.0   \n",
      "\n",
      "  home_city HOME COUNTRY  \n",
      "0     Tampa          USA  \n",
      "1    London           UK  \n",
      "2    Mumbai        India  \n",
      "3    Sydney    Australia  \n",
      "4  New York          USA  \n",
      "             enrollment_id stud_ref_id subject_code        course_title  \\\n",
      "0  ENR-STU001-MATH101-AB12      STU001      MATH101          Calculus I   \n",
      "1   ENR-STU002-ENG201-CD34      STU002       ENG201  English Literature   \n",
      "2    ENR-STU003-CS301-EF56      STU003        CS301     Programming 101   \n",
      "3  ENR-STU004-HIST105-GH78      STU004      HIST105       World History   \n",
      "4  ENR-STU005-CHEM110-IJ90      STU005      CHEM110   Organic Chemistry   \n",
      "\n",
      "  instructor_name  enroll_count term_offered course_fee final_result  \\\n",
      "0       Dr. Smith            25  Spring 2026       1000            A   \n",
      "1     Prof. Brown            26    Fall 2025       1100            B   \n",
      "2      Dr. Taylor            27  Spring 2026       1200           C+   \n",
      "3         Dr. Lee            28    Fall 2025       1300           B+   \n",
      "4       Dr. Kumar            29  Spring 2026       1400           B-   \n",
      "\n",
      "   attend_percentage date_enrolled  \n",
      "0                 71    2026/01/15  \n",
      "1                 72    2025-09-01  \n",
      "2                 73    2026/01/15  \n",
      "3                 74    2025/09/01  \n",
      "4                 75    2026-01-15  \n"
     ]
    }
   ],
   "source": [
    "print(students_df.head())\n",
    "print(enrollments_df.head())"
   ]
  },
  {
   "cell_type": "code",
   "execution_count": 47,
   "id": "0752625a",
   "metadata": {
    "lines_to_next_cell": 2
   },
   "outputs": [
    {
     "name": "stdout",
     "output_type": "stream",
     "text": [
      "    student_id First_Name last_name Birthddate gender   majorField  \\\n",
      "98      STU096   Victoria     Ortiz   8/2/1996      F  Mathematics   \n",
      "99      STU097     Julian    Foster   9/3/1998      M      Physics   \n",
      "100     STU098       Lucy   Ramirez  10/4/1997      F    Chemistry   \n",
      "101     STU099     Isaiah       Kim  11/5/1999      M    Economics   \n",
      "102     STU100     Amelia     Lopez  12/6/1996      F      History   \n",
      "\n",
      "    admission_year  current gpa               contact_email  mobile number  \\\n",
      "98            2020          3.7  victoria.ortiz@example.com         -750.0   \n",
      "99            2022          3.8   julian.foster@example.com         -751.0   \n",
      "100           2019          3.9    lucy.ramirez@example.com         -752.0   \n",
      "101           2021          3.2      isaiah.kim@example.com         -753.0   \n",
      "102           2020          3.3    amelia.lopez@example.com         -754.0   \n",
      "\n",
      "     home_city HOME COUNTRY  \n",
      "98     Concord          USA  \n",
      "99      Toledo          USA  \n",
      "100  St. Louis          USA  \n",
      "101    Orlando          USA  \n",
      "102    Raleigh          USA  \n",
      "               enrollment_id stud_ref_id subject_code           course_title  \\\n",
      "96   ENR-STU097-MATH101-MN34      STU097      MATH101             Calculus I   \n",
      "97    ENR-STU098-ENG201-OP56      STU098       ENG201     English Literature   \n",
      "98     ENR-STU099-CS301-QR78      STU099        CS301        Programming 101   \n",
      "99   ENR-STU100-HIST105-ST90      STU100      HIST105          World History   \n",
      "100  ENR-STU004-HIST999-DUP1      STU004      HIST999  Ancient Civilizations   \n",
      "\n",
      "    instructor_name  enroll_count term_offered course_fee final_result  \\\n",
      "96        Dr. Smith            30  Spring 2026       1500            A   \n",
      "97      Prof. Brown            31    Fall 2025       1600            B   \n",
      "98       Dr. Taylor            25  Spring 2026       1000           C+   \n",
      "99          Dr. Lee            26    Fall 2025       1100           B+   \n",
      "100     Prof. Brown            99    Fall 2023        NaN                \n",
      "\n",
      "     attend_percentage date_enrolled  \n",
      "96                  83    2026-01-15  \n",
      "97                  84    2025-09-01  \n",
      "98                  85    2026-01-15  \n",
      "99                  86    2025-09-01  \n",
      "100                 67    2023-09-01  \n"
     ]
    }
   ],
   "source": [
    "print(students_df.tail())\n",
    "print(enrollments_df.tail())\n"
   ]
  },
  {
   "cell_type": "code",
   "execution_count": 7,
   "id": "023f34d2",
   "metadata": {},
   "outputs": [],
   "source": [
    "# your code here"
   ]
  },
  {
   "cell_type": "markdown",
   "id": "d831b3ca",
   "metadata": {},
   "source": [
    "## **3. Check the Shape of Each DataFrame**\n",
    "\n",
    "To understand the **size** of your dataset(s), use the attribute that returns `(number_of_rows, number_of_columns)`.\n",
    "\n",
    "**📝 Tip:** Note any big differences in row counts that might affect merging later.\n"
   ]
  },
  {
   "cell_type": "code",
   "execution_count": 49,
   "id": "1bb8e075",
   "metadata": {},
   "outputs": [
    {
     "name": "stdout",
     "output_type": "stream",
     "text": [
      "Students DataFrame Shape: (103, 12)\n",
      "Enrollments DataFrame Shape: (101, 11)\n"
     ]
    }
   ],
   "source": [
    "print(\"Students DataFrame Shape:\", students_df.shape)\n",
    "print(\"Enrollments DataFrame Shape:\", enrollments_df.shape)\n"
   ]
  },
  {
   "cell_type": "markdown",
   "id": "b716bb85",
   "metadata": {},
   "source": [
    "## **4. Get a Summary of Each DataFrame**\n",
    "\n",
    "Explore one or two approaches that provide:\n",
    "\n",
    "-   **Column names**\n",
    "-   **Data types**\n",
    "-   **Basic statistics about numerical columns**\n",
    "-   **Number of non-null values**\n",
    "\n",
    "**📝 Tip:** One approach might give an overview of columns and data types; another might summarize numerical columns. This step helps you detect columns that might need cleaning."
   ]
  },
  {
   "cell_type": "code",
   "execution_count": 51,
   "id": "ab9c1939",
   "metadata": {
    "lines_to_next_cell": 2
   },
   "outputs": [
    {
     "name": "stdout",
     "output_type": "stream",
     "text": [
      "<class 'pandas.core.frame.DataFrame'>\n",
      "RangeIndex: 103 entries, 0 to 102\n",
      "Data columns (total 12 columns):\n",
      " #   Column          Non-Null Count  Dtype  \n",
      "---  ------          --------------  -----  \n",
      " 0   student_id      103 non-null    object \n",
      " 1   First_Name      103 non-null    object \n",
      " 2   last_name       103 non-null    object \n",
      " 3   Birthddate      103 non-null    object \n",
      " 4   gender          103 non-null    object \n",
      " 5   majorField      102 non-null    object \n",
      " 6   admission_year  103 non-null    object \n",
      " 7   current gpa     95 non-null     float64\n",
      " 8   contact_email   103 non-null    object \n",
      " 9   mobile number   97 non-null     float64\n",
      " 10  home_city       103 non-null    object \n",
      " 11  HOME COUNTRY    103 non-null    object \n",
      "dtypes: float64(2), object(10)\n",
      "memory usage: 9.8+ KB\n",
      "None\n",
      "<class 'pandas.core.frame.DataFrame'>\n",
      "RangeIndex: 101 entries, 0 to 100\n",
      "Data columns (total 11 columns):\n",
      " #   Column             Non-Null Count  Dtype \n",
      "---  ------             --------------  ----- \n",
      " 0   enrollment_id      101 non-null    object\n",
      " 1   stud_ref_id        101 non-null    object\n",
      " 2   subject_code       101 non-null    object\n",
      " 3   course_title       101 non-null    object\n",
      " 4   instructor_name    101 non-null    object\n",
      " 5   enroll_count       101 non-null    int64 \n",
      " 6   term_offered       101 non-null    object\n",
      " 7   course_fee         100 non-null    object\n",
      " 8   final_result       101 non-null    object\n",
      " 9   attend_percentage  101 non-null    int64 \n",
      " 10  date_enrolled      101 non-null    object\n",
      "dtypes: int64(2), object(9)\n",
      "memory usage: 8.8+ KB\n",
      "None\n"
     ]
    }
   ],
   "source": [
    "print(students_df.info())\n",
    "print(enrollments_df.info())\n"
   ]
  },
  {
   "cell_type": "code",
   "execution_count": 53,
   "id": "08f3cba4",
   "metadata": {
    "lines_to_next_cell": 2
   },
   "outputs": [
    {
     "name": "stdout",
     "output_type": "stream",
     "text": [
      "       current gpa  mobile number\n",
      "count    95.000000      97.000000\n",
      "mean      3.560000    -688.381443\n",
      "std       0.230817     150.548334\n",
      "min       3.100000    -754.000000\n",
      "25%       3.400000    -727.000000\n",
      "50%       3.600000    -703.000000\n",
      "75%       3.750000    -678.000000\n",
      "max       3.900000     753.000000\n",
      "       enroll_count  attend_percentage\n",
      "count    101.000000         101.000000\n",
      "mean      28.653465          79.633663\n",
      "std        7.350423           6.009530\n",
      "min       25.000000          67.000000\n",
      "25%       26.000000          75.000000\n",
      "50%       28.000000          80.000000\n",
      "75%       30.000000          85.000000\n",
      "max       99.000000          90.000000\n"
     ]
    }
   ],
   "source": [
    "print(students_df.describe())\n",
    "print(enrollments_df.describe())\n"
   ]
  },
  {
   "cell_type": "code",
   "execution_count": 13,
   "id": "69635b89",
   "metadata": {},
   "outputs": [],
   "source": [
    "# your code here"
   ]
  },
  {
   "cell_type": "markdown",
   "id": "75567b6f",
   "metadata": {},
   "source": [
    "## **5. Check for Missing Values**\n",
    "\n",
    "Determine if your dataset has any missing or null values by **counting** them. Notice which columns have many missing entries and plan how to handle them.\n",
    "\n",
    "**📝 Tip:** Some columns might look present but contain empty strings. Identify them if possible.\n"
   ]
  },
  {
   "cell_type": "code",
   "execution_count": 55,
   "id": "8f7e010c",
   "metadata": {
    "lines_to_next_cell": 2
   },
   "outputs": [
    {
     "name": "stdout",
     "output_type": "stream",
     "text": [
      "student_id        0\n",
      "First_Name        0\n",
      "last_name         0\n",
      "Birthddate        0\n",
      "gender            0\n",
      "majorField        1\n",
      "admission_year    0\n",
      "current gpa       8\n",
      "contact_email     0\n",
      "mobile number     6\n",
      "home_city         0\n",
      "HOME COUNTRY      0\n",
      "dtype: int64\n",
      "enrollment_id        0\n",
      "stud_ref_id          0\n",
      "subject_code         0\n",
      "course_title         0\n",
      "instructor_name      0\n",
      "enroll_count         0\n",
      "term_offered         0\n",
      "course_fee           1\n",
      "final_result         0\n",
      "attend_percentage    0\n",
      "date_enrolled        0\n",
      "dtype: int64\n"
     ]
    }
   ],
   "source": [
    "print(students_df.isnull().sum())\n",
    "print(enrollments_df.isnull().sum())\n"
   ]
  },
  {
   "cell_type": "code",
   "execution_count": 15,
   "id": "2760201d",
   "metadata": {
    "lines_to_next_cell": 2
   },
   "outputs": [],
   "source": [
    "# your code here"
   ]
  },
  {
   "cell_type": "code",
   "execution_count": 16,
   "id": "00672862",
   "metadata": {},
   "outputs": [],
   "source": [
    "# your code here"
   ]
  },
  {
   "cell_type": "markdown",
   "id": "35cf28cb",
   "metadata": {},
   "source": [
    "## **6. Rename Columns for Clarity and Consistency**\n",
    "\n",
    "Some columns may have **spaces** or **capitalization** that complicates your analysis. For example, if you see `\"current gpa\"` or `\"First_Name\"`, consider renaming them (e.g., `\"current_gpa\"`, `\"first_name\"`) for ease of use.\n",
    "\n",
    "**📝 Tip:** Consistent naming conventions help minimize typos and KeyErrors."
   ]
  },
  {
   "cell_type": "code",
   "execution_count": 57,
   "id": "4349baa9",
   "metadata": {
    "lines_to_next_cell": 2
   },
   "outputs": [
    {
     "name": "stdout",
     "output_type": "stream",
     "text": [
      "  student_id first_name last_name   birthdate gender        majorField  \\\n",
      "0     STU001       John       Doe   4/12/1998      M  Computer Science   \n",
      "1     STU002      Maria  Gonzalez    9/5/1997      F           Biology   \n",
      "2     STU003      Priya     Patel   1/23/1999      F       Engineering   \n",
      "3     STU004       Alex   Johnson  12/15/1996      M       Mathematics   \n",
      "4     STU005      Emily     Smith   7/30/2000      F           Physics   \n",
      "\n",
      "  admission_year  current_gpa               contact_email  mobile number  \\\n",
      "0           2020          3.5        john.doe@example.com         -655.0   \n",
      "1           2019          3.8  maria.gonzalez@example.com         -656.0   \n",
      "2           2021          3.7     priya.patel@example.com         -657.0   \n",
      "3           2018          3.2    alex.johnson@example.com            NaN   \n",
      "4           2022          3.9     emily.smith@example.com         -659.0   \n",
      "\n",
      "  home_city HOME COUNTRY  \n",
      "0     Tampa          USA  \n",
      "1    London           UK  \n",
      "2    Mumbai        India  \n",
      "3    Sydney    Australia  \n",
      "4  New York          USA  \n"
     ]
    }
   ],
   "source": [
    "students_df.rename(columns={\n",
    "    \"First_Name\": \"first_name\",\n",
    "    \"last_name\": \"last_name\",\n",
    "    \"Birthddate\": \"birthdate\",\n",
    "    \"current gpa\": \"current_gpa\"\n",
    "}, inplace=True)\n",
    "\n",
    "print(students_df.head())\n"
   ]
  },
  {
   "cell_type": "code",
   "execution_count": 18,
   "id": "dcf1d51a",
   "metadata": {
    "lines_to_next_cell": 2
   },
   "outputs": [],
   "source": [
    "# your code here"
   ]
  },
  {
   "cell_type": "code",
   "execution_count": 19,
   "id": "d2003486",
   "metadata": {
    "lines_to_next_cell": 2
   },
   "outputs": [],
   "source": [
    "# your code here"
   ]
  },
  {
   "cell_type": "code",
   "execution_count": 20,
   "id": "e7706d1b",
   "metadata": {},
   "outputs": [],
   "source": [
    "# your code here"
   ]
  },
  {
   "cell_type": "markdown",
   "id": "a0d0b232",
   "metadata": {},
   "source": [
    "## **7. Convert Data Types Where Needed**\n",
    "\n",
    "Check which columns should be numeric or datetime. Columns like `admission_year` or `course_fee` might be read as **strings** by default. Convert them to numerical or date formats if necessary.\n",
    "\n",
    "**📝 Tip:** Make sure you handle errors gracefully (e.g., set `errors='coerce'` to turn invalid entries into NaN)."
   ]
  },
  {
   "cell_type": "code",
   "execution_count": 103,
   "id": "5f177231",
   "metadata": {
    "lines_to_next_cell": 2
   },
   "outputs": [
    {
     "name": "stdout",
     "output_type": "stream",
     "text": [
      "student_id                object\n",
      "first_name                object\n",
      "last_name                 object\n",
      "birthdate         datetime64[ns]\n",
      "gender                    object\n",
      "majorField                object\n",
      "admission_year           float64\n",
      "current_gpa              float64\n",
      "contact_email             object\n",
      "home_city                 object\n",
      "HOME COUNTRY              object\n",
      "full_name                 object\n",
      "dtype: object\n"
     ]
    }
   ],
   "source": [
    "# Convert admission_year to numeric\n",
    "students_df[\"admission_year\"] = pd.to_numeric(students_df[\"admission_year\"], errors='coerce')\n",
    "print(students_df.dtypes)  # ✅ Output the data types after conversion\n",
    "\n"
   ]
  },
  {
   "cell_type": "code",
   "execution_count": 105,
   "id": "6a699f8f",
   "metadata": {
    "lines_to_next_cell": 2
   },
   "outputs": [
    {
     "name": "stdout",
     "output_type": "stream",
     "text": [
      "  student_id first_name last_name  birthdate gender        majorField  \\\n",
      "0     STU001       John       Doe 1998-04-12      M  Computer Science   \n",
      "1     STU002      Maria  Gonzalez 1997-09-05      F           Biology   \n",
      "2     STU003      Priya     Patel 1999-01-23      F       Engineering   \n",
      "3     STU004       Alex   Johnson 1996-12-15      M       Mathematics   \n",
      "4     STU005      Emily     Smith 2000-07-30      F           Physics   \n",
      "\n",
      "   admission_year  current_gpa               contact_email home_city  \\\n",
      "0          2020.0          3.5        john.doe@example.com     Tampa   \n",
      "1          2019.0          3.8  maria.gonzalez@example.com    London   \n",
      "2          2021.0          3.7     priya.patel@example.com    Mumbai   \n",
      "3          2018.0          3.2    alex.johnson@example.com    Sydney   \n",
      "4          2022.0          3.9     emily.smith@example.com  New York   \n",
      "\n",
      "  HOME COUNTRY       full_name  \n",
      "0          USA        John Doe  \n",
      "1           UK  Maria Gonzalez  \n",
      "2        India     Priya Patel  \n",
      "3    Australia    Alex Johnson  \n",
      "4          USA     Emily Smith  \n"
     ]
    }
   ],
   "source": [
    "# Convert birthdate to datetime\n",
    "students_df[\"birthdate\"] = pd.to_datetime(students_df[\"birthdate\"], errors='coerce')\n",
    "print(students_df.head())  # ✅ Output first few rows to verify changes\n"
   ]
  },
  {
   "cell_type": "markdown",
   "id": "5c9b9c86",
   "metadata": {
    "tags": []
   },
   "source": [
    "## **8. Fill Missing Values with a Specified Value or Method**\n",
    "\n",
    "Instead of **dropping** missing values, consider **replacing** them. For instance:\n",
    "\n",
    "-   A string like `\"Unknown\"` for missing text\n",
    "-   A **mean** or **median** for missing numeric columns\n",
    "-   A **forward** or **backward fill** if appropriate"
   ]
  },
  {
   "cell_type": "code",
   "execution_count": 129,
   "id": "0ebd2f7b",
   "metadata": {
    "lines_to_next_cell": 2
   },
   "outputs": [
    {
     "name": "stdout",
     "output_type": "stream",
     "text": [
      "Index(['student_id', 'first_name', 'last_name', 'birthdate', 'gender',\n",
      "       'majorField', 'admission_year', 'current_gpa', 'contact_email',\n",
      "       'home_city', 'HOME COUNTRY', 'full_name'],\n",
      "      dtype='object')\n"
     ]
    }
   ],
   "source": [
    "print(students_df.columns)  # ✅ Verify column names\n",
    "\n"
   ]
  },
  {
   "cell_type": "code",
   "execution_count": 135,
   "id": "d2f0b58b",
   "metadata": {},
   "outputs": [
    {
     "name": "stdout",
     "output_type": "stream",
     "text": [
      "student_id        0\n",
      "first_name        0\n",
      "last_name         0\n",
      "birthdate         1\n",
      "gender            0\n",
      "majorField        0\n",
      "admission_year    1\n",
      "current_gpa       0\n",
      "contact_email     0\n",
      "home_city         0\n",
      "HOME COUNTRY      0\n",
      "full_name         0\n",
      "dtype: int64\n"
     ]
    }
   ],
   "source": [
    "print(students_df.isnull().sum())  # ✅ Ensure missing values are handled\n",
    "\n"
   ]
  },
  {
   "cell_type": "markdown",
   "id": "22ebe829",
   "metadata": {},
   "source": [
    "## **9. Drop Rows or Columns with Missing Values (If Needed)**\n",
    "\n",
    "After considering which values can be filled, you might choose to **remove** rows or columns that are missing too much data or can’t be fixed.\n",
    "\n",
    "**📝 Tip:** Decide carefully and confirm you don’t need the dropped information. Use `inplace=True` or keep a separate DataFrame if you want to preserve the original data."
   ]
  },
  {
   "cell_type": "code",
   "execution_count": 137,
   "id": "92e7650f",
   "metadata": {
    "lines_to_next_cell": 2
   },
   "outputs": [
    {
     "name": "stdout",
     "output_type": "stream",
     "text": [
      "Index(['student_id', 'first_name', 'last_name', 'birthdate', 'gender',\n",
      "       'majorField', 'admission_year', 'current_gpa', 'contact_email',\n",
      "       'home_city', 'HOME COUNTRY', 'full_name'],\n",
      "      dtype='object')\n"
     ]
    }
   ],
   "source": [
    "print(students_df.columns)  # ✅ Verify column names\n",
    "\n"
   ]
  },
  {
   "cell_type": "code",
   "execution_count": 30,
   "id": "d450d8e8",
   "metadata": {
    "lines_to_next_cell": 2
   },
   "outputs": [],
   "source": [
    "# your code here"
   ]
  },
  {
   "cell_type": "code",
   "execution_count": 31,
   "id": "170d366e",
   "metadata": {},
   "outputs": [],
   "source": [
    "# your code here"
   ]
  },
  {
   "cell_type": "markdown",
   "id": "ea28c50f",
   "metadata": {},
   "source": [
    "## **10. Filter Rows Based on a Condition**\n",
    "\n",
    "Now that columns like `admission_year` and `course_fee` (or `current_gpa`) are numeric, experiment with filtering. For example:\n",
    "\n",
    "-   Students whose `admission_year` is after a certain date\n",
    "-   Enrollments for `Spring 2026`"
   ]
  },
  {
   "cell_type": "code",
   "execution_count": 83,
   "id": "ba8fe133",
   "metadata": {
    "lines_to_next_cell": 2
   },
   "outputs": [
    {
     "name": "stdout",
     "output_type": "stream",
     "text": [
      "   student_id first_name last_name  birthdate gender        majorField  \\\n",
      "2      STU003      Priya     Patel 1999-01-23      F       Engineering   \n",
      "4      STU005      Emily     Smith 2000-07-30      F           Physics   \n",
      "5      STU006     Robert     Brown 1995-03-20      M           Unknown   \n",
      "8      STU009     Sophia     Lopez 1999-09-30      F  Computer Science   \n",
      "12     STU013    Michael    Miller 1999-11-02      M           Physics   \n",
      "\n",
      "    admission_year  current_gpa               contact_email    home_city  \\\n",
      "2           2021.0          3.7     priya.patel@example.com       Mumbai   \n",
      "4           2022.0          3.9     emily.smith@example.com     New York   \n",
      "5           2023.0          3.3    robert.brown@example.com  Los Angeles   \n",
      "8           2021.0          3.7    sophia.lopez@example.com       Dublin   \n",
      "12          2021.0          3.7  michael.miller@example.com      Toronto   \n",
      "\n",
      "   HOME COUNTRY  \n",
      "2         India  \n",
      "4           USA  \n",
      "5           USA  \n",
      "8       Ireland  \n",
      "12       Canada  \n"
     ]
    }
   ],
   "source": [
    "recent_students = students_df[students_df[\"admission_year\"] > 2020]\n",
    "print(recent_students.head())\n"
   ]
  },
  {
   "cell_type": "code",
   "execution_count": 33,
   "id": "11bc5b09",
   "metadata": {
    "lines_to_next_cell": 2
   },
   "outputs": [],
   "source": [
    "# your code here"
   ]
  },
  {
   "cell_type": "code",
   "execution_count": 34,
   "id": "f7960dd7",
   "metadata": {
    "lines_to_next_cell": 2
   },
   "outputs": [],
   "source": [
    "# your code here"
   ]
  },
  {
   "cell_type": "code",
   "execution_count": 35,
   "id": "56f514d4",
   "metadata": {},
   "outputs": [],
   "source": [
    "# your code here"
   ]
  },
  {
   "cell_type": "markdown",
   "id": "4da1819e",
   "metadata": {},
   "source": [
    "## **11. Select Specific Columns from Each DataFrame**\n",
    "\n",
    "Often, you don’t need all columns at once. For instance, you might extract only:\n",
    "\n",
    "-   `\"student_id\"`, `\"First_Name\"`, `\"last_name\"`, and `\"current_gpa\"` from `students.csv`\n",
    "-   `\"stud_ref_id\"`, `\"course_title\"`, `\"instructor_name\"`, `\"course_fee\"` from `enrollments.json`"
   ]
  },
  {
   "cell_type": "code",
   "execution_count": 85,
   "id": "872c92ae",
   "metadata": {
    "lines_to_next_cell": 2
   },
   "outputs": [
    {
     "name": "stdout",
     "output_type": "stream",
     "text": [
      "  student_id first_name last_name  current_gpa\n",
      "0     STU001       John       Doe          3.5\n",
      "1     STU002      Maria  Gonzalez          3.8\n",
      "2     STU003      Priya     Patel          3.7\n",
      "3     STU004       Alex   Johnson          3.2\n",
      "4     STU005      Emily     Smith          3.9\n"
     ]
    }
   ],
   "source": [
    "students_subset = students_df[[\"student_id\", \"first_name\", \"last_name\", \"current_gpa\"]]\n",
    "print(students_subset.head())\n"
   ]
  },
  {
   "cell_type": "code",
   "execution_count": 37,
   "id": "d1677b96",
   "metadata": {
    "lines_to_next_cell": 2
   },
   "outputs": [],
   "source": [
    "# your code here"
   ]
  },
  {
   "cell_type": "code",
   "execution_count": 38,
   "id": "37cc3834",
   "metadata": {
    "lines_to_next_cell": 2
   },
   "outputs": [],
   "source": [
    "# your code here"
   ]
  },
  {
   "cell_type": "code",
   "execution_count": 39,
   "id": "490b379d",
   "metadata": {},
   "outputs": [],
   "source": [
    "# your code here"
   ]
  },
  {
   "cell_type": "markdown",
   "id": "012b0c54",
   "metadata": {},
   "source": [
    "## **12. Sort the DataFrame by One or More Columns**\n",
    "\n",
    "Sorting can help you identify which records have the highest or lowest values. For example:\n",
    "\n",
    "-   Sort the **students** DataFrame by `\"current_gpa\"` in descending order\n",
    "-   Sort the **enrollments** DataFrame by `\"course_fee\"` in ascending order\n",
    "\n",
    "**📝 Tip:** You can sort by multiple columns if needed.\n"
   ]
  },
  {
   "cell_type": "code",
   "execution_count": 87,
   "id": "614f00fc",
   "metadata": {
    "lines_to_next_cell": 2
   },
   "outputs": [
    {
     "name": "stdout",
     "output_type": "stream",
     "text": [
      "   student_id first_name last_name  birthdate gender   majorField  \\\n",
      "31     STU032      Grace     Moore 1996-02-28      F  Mathematics   \n",
      "68     STU066   Victoria    Morris 1997-02-02      F    Chemistry   \n",
      "84     STU082     Aurora    Rivera 1997-06-18      F    Chemistry   \n",
      "92     STU090      Molly    Barnes 1997-02-26      F    Chemistry   \n",
      "76     STU074    Natalie      Ross 1997-10-10      F    Chemistry   \n",
      "\n",
      "    admission_year  current_gpa                contact_email     home_city  \\\n",
      "31          2020.0          3.9      grace.moore@example.com      San Jose   \n",
      "68          2019.0          3.9  victoria.morris@example.com       Modesto   \n",
      "84          2019.0          3.9    aurora.rivera@example.com   Chula Vista   \n",
      "92          2019.0          3.9     molly.barnes@example.com  Grand Rapids   \n",
      "76          2019.0          3.9     natalie.ross@example.com       Fontana   \n",
      "\n",
      "   HOME COUNTRY  \n",
      "31          USA  \n",
      "68          USA  \n",
      "84          USA  \n",
      "92          USA  \n",
      "76          USA  \n"
     ]
    }
   ],
   "source": [
    "sorted_students = students_df.sort_values(by=\"current_gpa\", ascending=False)\n",
    "print(sorted_students.head())\n"
   ]
  },
  {
   "cell_type": "code",
   "execution_count": 41,
   "id": "bdb4c756",
   "metadata": {
    "lines_to_next_cell": 2
   },
   "outputs": [],
   "source": [
    "# your code here"
   ]
  },
  {
   "cell_type": "code",
   "execution_count": 42,
   "id": "fa08f341",
   "metadata": {
    "lines_to_next_cell": 2
   },
   "outputs": [],
   "source": [
    "# your code here"
   ]
  },
  {
   "cell_type": "code",
   "execution_count": 43,
   "id": "89e0b245",
   "metadata": {},
   "outputs": [],
   "source": [
    "# your code here"
   ]
  },
  {
   "cell_type": "markdown",
   "id": "eb5d1e3f",
   "metadata": {},
   "source": [
    "## **13. Group Data by a Column and Compute Aggregate Functions**\n",
    "\n",
    "Grouping lets you see aggregated info by category. For example, group **students** by `\"majorField\"` and compute the average `\"current_gpa\"`. In **enrollments**, group by `\"instructor_name\"` and compute the average `\"course_fee\"`.\n",
    "\n",
    "**📝 Tip:** Aggregations might include `.mean()`, `.sum()`, `.count()`, etc."
   ]
  },
  {
   "cell_type": "code",
   "execution_count": 89,
   "id": "518157a2",
   "metadata": {
    "lines_to_next_cell": 2
   },
   "outputs": [
    {
     "name": "stdout",
     "output_type": "stream",
     "text": [
      "majorField\n",
      "Biology             3.515385\n",
      "Chemistry           3.850000\n",
      "Computer Science    3.458462\n",
      "Economics           3.313333\n",
      "Engineering         3.563077\n",
      "History             3.398333\n",
      "Mathematics         3.632857\n",
      "Physics             3.753846\n",
      "Unknown             3.300000\n",
      "Name: current_gpa, dtype: float64\n"
     ]
    }
   ],
   "source": [
    "gpa_by_major = students_df.groupby(\"majorField\")[\"current_gpa\"].mean()\n",
    "print(gpa_by_major)\n"
   ]
  },
  {
   "cell_type": "code",
   "execution_count": 45,
   "id": "37cb3a9a",
   "metadata": {
    "lines_to_next_cell": 2
   },
   "outputs": [],
   "source": [
    "# your code here"
   ]
  },
  {
   "cell_type": "code",
   "execution_count": 46,
   "id": "f691e36d",
   "metadata": {
    "lines_to_next_cell": 2
   },
   "outputs": [],
   "source": [
    "# your code here"
   ]
  },
  {
   "cell_type": "code",
   "execution_count": 47,
   "id": "8cf82529",
   "metadata": {},
   "outputs": [],
   "source": [
    "# your code here"
   ]
  },
  {
   "cell_type": "markdown",
   "id": "523849b9",
   "metadata": {},
   "source": [
    "## **14. Apply a Custom Function**\n",
    "\n",
    "Define a normal Python function to transform data in a column. For example, title-case a name or uppercase a field. Apply that function to each element in the column.\n",
    "\n",
    "**📝 Tip:** If your function references another library call or has complex logic, define it above and then use `.apply(...)` with your function name. Once you've done this, see if you do this using lamda notation. "
   ]
  },
  {
   "cell_type": "code",
   "execution_count": 91,
   "id": "b9714884",
   "metadata": {
    "lines_to_next_cell": 2
   },
   "outputs": [
    {
     "name": "stdout",
     "output_type": "stream",
     "text": [
      "        full_name\n",
      "0        John Doe\n",
      "1  Maria Gonzalez\n",
      "2     Priya Patel\n",
      "3    Alex Johnson\n",
      "4     Emily Smith\n"
     ]
    }
   ],
   "source": [
    "students_df[\"full_name\"] = students_df[\"first_name\"] + \" \" + students_df[\"last_name\"]\n",
    "print(students_df[[\"full_name\"]].head())\n"
   ]
  },
  {
   "cell_type": "code",
   "execution_count": 49,
   "id": "aaf82dd3",
   "metadata": {
    "lines_to_next_cell": 2
   },
   "outputs": [],
   "source": [
    "# your code here"
   ]
  },
  {
   "cell_type": "code",
   "execution_count": 50,
   "id": "77041ef8",
   "metadata": {
    "lines_to_next_cell": 2
   },
   "outputs": [],
   "source": [
    "# your code here"
   ]
  },
  {
   "cell_type": "code",
   "execution_count": 51,
   "id": "65d5741a",
   "metadata": {},
   "outputs": [],
   "source": [
    "# your code here"
   ]
  },
  {
   "cell_type": "markdown",
   "id": "0c240863",
   "metadata": {},
   "source": [
    "## **15. Create a New Column Based on Existing Ones**\n",
    "\n",
    "Use existing columns to generate new ones. For instance, combine `\"First_Name\"` and `\"last_name\"` into `\"full_name\"`, or compute `\"fees_after_tax\"` in enrollments if you assume a tax rate."
   ]
  },
  {
   "cell_type": "code",
   "execution_count": 93,
   "id": "9d7d945d",
   "metadata": {
    "lines_to_next_cell": 2
   },
   "outputs": [
    {
     "name": "stdout",
     "output_type": "stream",
     "text": [
      "  student_id first_name last_name  birthdate gender        majorField  \\\n",
      "0     STU001       John       Doe 1998-04-12      M  Computer Science   \n",
      "1     STU002      Maria  Gonzalez 1997-09-05      F           Biology   \n",
      "2     STU003      Priya     Patel 1999-01-23      F       Engineering   \n",
      "3     STU004       Alex   Johnson 1996-12-15      M       Mathematics   \n",
      "4     STU004       Alex   Johnson 1996-12-15      M       Mathematics   \n",
      "\n",
      "   admission_year  current_gpa               contact_email home_city  ...  \\\n",
      "0          2020.0          3.5        john.doe@example.com     Tampa  ...   \n",
      "1          2019.0          3.8  maria.gonzalez@example.com    London  ...   \n",
      "2          2021.0          3.7     priya.patel@example.com    Mumbai  ...   \n",
      "3          2018.0          3.2    alex.johnson@example.com    Sydney  ...   \n",
      "4          2018.0          3.2    alex.johnson@example.com    Sydney  ...   \n",
      "\n",
      "  stud_ref_id subject_code           course_title instructor_name  \\\n",
      "0      STU001      MATH101             Calculus I       Dr. Smith   \n",
      "1      STU002       ENG201     English Literature     Prof. Brown   \n",
      "2      STU003        CS301        Programming 101      Dr. Taylor   \n",
      "3      STU004      HIST105          World History         Dr. Lee   \n",
      "4      STU004      HIST999  Ancient Civilizations     Prof. Brown   \n",
      "\n",
      "  enroll_count term_offered course_fee  final_result attend_percentage  \\\n",
      "0           25  Spring 2026       1000             A                71   \n",
      "1           26    Fall 2025       1100             B                72   \n",
      "2           27  Spring 2026       1200            C+                73   \n",
      "3           28    Fall 2025       1300            B+                74   \n",
      "4           99    Fall 2023        NaN                              67   \n",
      "\n",
      "  date_enrolled  \n",
      "0    2026/01/15  \n",
      "1    2025-09-01  \n",
      "2    2026/01/15  \n",
      "3    2025/09/01  \n",
      "4    2023-09-01  \n",
      "\n",
      "[5 rows x 23 columns]\n"
     ]
    }
   ],
   "source": [
    "merged_df = students_df.merge(enrollments_df, left_on=\"student_id\", right_on=\"stud_ref_id\", how=\"inner\")\n",
    "print(merged_df.head())\n"
   ]
  },
  {
   "cell_type": "code",
   "execution_count": 53,
   "id": "c0a7ed4a",
   "metadata": {
    "lines_to_next_cell": 2
   },
   "outputs": [],
   "source": [
    "# your code here"
   ]
  },
  {
   "cell_type": "code",
   "execution_count": 54,
   "id": "04b685c2",
   "metadata": {
    "lines_to_next_cell": 2
   },
   "outputs": [],
   "source": [
    "# your code here"
   ]
  },
  {
   "cell_type": "code",
   "execution_count": 55,
   "id": "ecc75bf3",
   "metadata": {},
   "outputs": [],
   "source": [
    "# your code here"
   ]
  },
  {
   "cell_type": "markdown",
   "id": "b6cceef0",
   "metadata": {},
   "source": [
    "## **16. Merge Two DataFrames on a Common Column**\n",
    "\n",
    "Combine `students.csv` and `enrollments.json` by matching:\n",
    "\n",
    "-   `stu[\"student_id\"]`\n",
    "-   `enr[\"stud_ref_id\"]` (or rename it first)\n",
    "\n",
    "Check the shape of the merged DataFrame afterward to ensure it merged as expected.\n"
   ]
  },
  {
   "cell_type": "code",
   "execution_count": 95,
   "id": "c5564cfe",
   "metadata": {
    "lines_to_next_cell": 2
   },
   "outputs": [],
   "source": [
    "merged_df.drop_duplicates(inplace=True)\n"
   ]
  },
  {
   "cell_type": "code",
   "execution_count": 57,
   "id": "ed1d7bcd",
   "metadata": {
    "lines_to_next_cell": 2
   },
   "outputs": [],
   "source": [
    "# your code here"
   ]
  },
  {
   "cell_type": "code",
   "execution_count": 58,
   "id": "8dcfcaa6",
   "metadata": {
    "lines_to_next_cell": 2
   },
   "outputs": [],
   "source": [
    "# your code here"
   ]
  },
  {
   "cell_type": "code",
   "execution_count": 59,
   "id": "e289eda7",
   "metadata": {},
   "outputs": [],
   "source": [
    "# your code here"
   ]
  },
  {
   "cell_type": "markdown",
   "id": "f551624a",
   "metadata": {},
   "source": [
    "## **17. Remove Duplicate Rows**\n",
    "\n",
    "When merging or concatenating multiple files, duplicates can crop up. Identify them and remove if needed. This might be especially important if the same student or enrollment is listed more than once."
   ]
  },
  {
   "cell_type": "code",
   "execution_count": 117,
   "id": "684d5e9e",
   "metadata": {
    "lines_to_next_cell": 2
   },
   "outputs": [
    {
     "name": "stdout",
     "output_type": "stream",
     "text": [
      "Index(['student_id', 'first_name', 'last_name', 'birthdate', 'gender',\n",
      "       'majorField', 'admission_year', 'current_gpa', 'contact_email',\n",
      "       'home_city', 'HOME COUNTRY', 'full_name'],\n",
      "      dtype='object')\n"
     ]
    }
   ],
   "source": [
    "print(students_df.columns)  # ✅ Check actual column names\n"
   ]
  },
  {
   "cell_type": "code",
   "execution_count": 141,
   "id": "a0a4913f",
   "metadata": {
    "lines_to_next_cell": 2
   },
   "outputs": [
    {
     "name": "stdout",
     "output_type": "stream",
     "text": [
      "Index(['student_id', 'first_name', 'last_name', 'birthdate', 'gender',\n",
      "       'majorField', 'admission_year', 'current_gpa', 'contact_email',\n",
      "       'home_city', 'HOME COUNTRY', 'full_name'],\n",
      "      dtype='object')\n"
     ]
    }
   ],
   "source": [
    "print(students_df.columns)  # ✅ Check actual column names\n"
   ]
  },
  {
   "cell_type": "code",
   "execution_count": 143,
   "id": "3e440ade",
   "metadata": {},
   "outputs": [
    {
     "name": "stdout",
     "output_type": "stream",
     "text": [
      "Duplicates removed. New shape: (101, 23)\n"
     ]
    }
   ],
   "source": [
    "merged_df.drop_duplicates(inplace=True)\n",
    "print(\"Duplicates removed. New shape:\", merged_df.shape)\n"
   ]
  },
  {
   "cell_type": "markdown",
   "id": "ab305393",
   "metadata": {},
   "source": [
    "## **18. Additional Data Cleaning**\n",
    "\n",
    "Now that you’ve merged or manipulated your data, do a quick final pass:\n",
    "\n",
    "-   Fix any remaining oddities (e.g., negative phone numbers or impossible dates)\n",
    "-   Normalize columns further (e.g., standardize text formatting)\n",
    "\n",
    "**📝 Tip:** You might revisit previous steps if new issues appear.\n"
   ]
  },
  {
   "cell_type": "code",
   "execution_count": 121,
   "id": "9622883a",
   "metadata": {
    "lines_to_next_cell": 2
   },
   "outputs": [],
   "source": [
    "merged_df.to_csv(\"../../data/cleaned_students_data.csv\", index=False)\n"
   ]
  },
  {
   "cell_type": "code",
   "execution_count": 65,
   "id": "1a9e28f4",
   "metadata": {
    "lines_to_next_cell": 2
   },
   "outputs": [],
   "source": [
    "# your code here"
   ]
  },
  {
   "cell_type": "code",
   "execution_count": 66,
   "id": "3237121b",
   "metadata": {
    "lines_to_next_cell": 2
   },
   "outputs": [],
   "source": [
    "# your code here"
   ]
  },
  {
   "cell_type": "code",
   "execution_count": 67,
   "id": "29c0d156",
   "metadata": {},
   "outputs": [],
   "source": [
    "# your code here"
   ]
  },
  {
   "cell_type": "markdown",
   "id": "33c2ac37",
   "metadata": {},
   "source": [
    "## **19. Save the Cleaned and Merged DataFrame to a New CSV File**\n",
    "\n",
    "Finally, when you’re satisfied with your cleaned data, save it. Remember to avoid writing the index as a separate column unless you want it."
   ]
  },
  {
   "cell_type": "code",
   "execution_count": 123,
   "id": "64986045",
   "metadata": {
    "lines_to_next_cell": 2
   },
   "outputs": [
    {
     "data": {
      "image/png": "[encoded data removed]",
      "text/plain": [
       "<Figure size 800x500 with 1 Axes>"
      ]
     },
     "metadata": {},
     "output_type": "display_data"
    }
   ],
   "source": [
    "plt.figure(figsize=(8,5))\n",
    "sns.histplot(students_df[\"current_gpa\"], bins=10, kde=True)\n",
    "plt.xlabel(\"GPA\")\n",
    "plt.ylabel(\"Number of Students\")\n",
    "plt.title(\"Distribution of Student GPAs\")\n",
    "plt.show()\n"
   ]
  },
  {
   "cell_type": "code",
   "execution_count": 125,
   "id": "afe950ec",
   "metadata": {
    "lines_to_next_cell": 2
   },
   "outputs": [
    {
     "data": {
      "image/png": "[encoded data removed]",
      "text/plain": [
       "<Figure size 1000x500 with 1 Axes>"
      ]
     },
     "metadata": {},
     "output_type": "display_data"
    }
   ],
   "source": [
    "plt.figure(figsize=(10,5))\n",
    "gpa_by_major.plot(kind='bar', color='skyblue')\n",
    "plt.ylabel(\"Average GPA\")\n",
    "plt.title(\"Average GPA by Major\")\n",
    "plt.xticks(rotation=45)\n",
    "plt.show()\n"
   ]
  },
  {
   "cell_type": "code",
   "execution_count": 70,
   "id": "c8a656d5",
   "metadata": {
    "lines_to_next_cell": 2
   },
   "outputs": [],
   "source": [
    "# your code here"
   ]
  },
  {
   "cell_type": "code",
   "execution_count": 71,
   "id": "bf520a67",
   "metadata": {},
   "outputs": [],
   "source": [
    "# your code here"
   ]
  },
  {
   "cell_type": "markdown",
   "id": "462cdf88",
   "metadata": {},
   "source": [
    "## **20. Explore Further Analyses (Optional)**\n",
    "\n",
    "Now that your data is in great shape, try some optional challenges:\n",
    "\n",
    "-   Generate charts or visualizations\n",
    "-   Perform advanced filtering or grouping\n",
    "-   Create pivot tables\n",
    "-   Or anything else that interests you!"
   ]
  },
  {
   "cell_type": "code",
   "execution_count": 145,
   "id": "da0f2e54",
   "metadata": {
    "lines_to_next_cell": 2
   },
   "outputs": [
    {
     "name": "stdout",
     "output_type": "stream",
     "text": [
      "0    3.5\n",
      "1    3.8\n",
      "2    3.7\n",
      "3    3.2\n",
      "4    3.9\n",
      "Name: current_gpa, dtype: float64\n"
     ]
    }
   ],
   "source": [
    "print(students_df[\"current_gpa\"].head())  # ✅ Ensure column exists and is numeric\n"
   ]
  },
  {
   "cell_type": "code",
   "execution_count": 147,
   "id": "5df20082",
   "metadata": {
    "lines_to_next_cell": 2
   },
   "outputs": [
    {
     "data": {
      "image/png": "[encoded data removed]",
      "text/plain": [
       "<Figure size 800x500 with 1 Axes>"
      ]
     },
     "metadata": {},
     "output_type": "display_data"
    }
   ],
   "source": [
    "import matplotlib.pyplot as plt\n",
    "import seaborn as sns\n",
    "\n",
    "plt.figure(figsize=(8,5))\n",
    "sns.histplot(students_df[\"current_gpa\"].dropna(), bins=10, kde=True)  # ✅ Drop NaN values\n",
    "plt.xlabel(\"GPA\")\n",
    "plt.ylabel(\"Number of Students\")\n",
    "plt.title(\"Distribution of Student GPAs\")\n",
    "plt.show()\n"
   ]
  },
  {
   "cell_type": "code",
   "execution_count": 149,
   "id": "0c779f95",
   "metadata": {
    "lines_to_next_cell": 2
   },
   "outputs": [
    {
     "data": {
      "image/png": "[encoded data removed]",
      "text/plain": [
       "<Figure size 1000x500 with 1 Axes>"
      ]
     },
     "metadata": {},
     "output_type": "display_data"
    }
   ],
   "source": [
    "plt.figure(figsize=(10,5))\n",
    "gpa_by_major.plot(kind='bar', color='skyblue')\n",
    "plt.ylabel(\"Average GPA\")\n",
    "plt.title(\"Average GPA by Major\")\n",
    "plt.xticks(rotation=45)\n",
    "plt.show()\n"
   ]
  },
  {
   "cell_type": "code",
   "execution_count": 75,
   "id": "f8fdd8d4",
   "metadata": {},
   "outputs": [],
   "source": [
    "# your code here"
   ]
  },
  {
   "cell_type": "markdown",
   "id": "c8006fdd",
   "metadata": {},
   "source": [
    "**🎉 Congratulations!** You’ve now tackled **data cleaning** and many essential **Pandas** operations in `students.csv` and `enrollments.json`. Keep experimenting to sharpen your **data manipulation skills** and unlock deeper insights! 💪"
   ]
  },
  {
   "cell_type": "code",
   "execution_count": null,
   "id": "66baf0fb-eb2b-46b0-bd90-c0c9ecbf2954",
   "metadata": {},
   "outputs": [],
   "source": []
  },
  {
   "cell_type": "code",
   "execution_count": null,
   "id": "e2b45d89-b6ac-488b-8c21-b42d6264c3c9",
   "metadata": {},
   "outputs": [],
   "source": []
  }
 ],
 "metadata": {
  "jupytext": {
   "cell_metadata_filter": "-all",
   "main_language": "python",
   "notebook_metadata_filter": "-all"
  },
  "kernelspec": {
   "display_name": "Python 3 (ipykernel)",
   "language": "python",
   "name": "python3"
  },
  "language_info": {
   "codemirror_mode": {
    "name": "ipython",
    "version": 3
   },
   "file_extension": ".py",
   "mimetype": "text/x-python",
   "name": "python",
   "nbconvert_exporter": "python",
   "pygments_lexer": "ipython3",
   "version": "3.11.5"
  }
 },
 "nbformat": 4,
 "nbformat_minor": 5
}
